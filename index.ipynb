{
 "cells": [
  {
   "cell_type": "markdown",
   "id": "c7a85330",
   "metadata": {},
   "source": [
    "## BUILDING A MOVIE RECOMMENDATION SYSTEM \n",
    "\n",
    "Group Members:\n",
    "\n",
    "1. Mwangi Wambugu\n",
    "\n",
    "2. Grace Mutuku\n",
    "\n",
    "3. Rony Muriithi \n",
    "\n",
    "4. Esther Nyawera\n",
    "\n",
    "5. John Kioko\n",
    "\n",
    "6. Heri Kimotho\n",
    "\n",
    "7. Peter Otieno\n",
    "\n",
    "### OBJECTIVES\n",
    "\n",
    "1. To analyse the data and find the highest rated movies based on the data provided.\n",
    "2. To analyse the data and find the highest rated genres based on the data provided.\n",
    "3. Create a recommendation system that makes movie recommendations based on user ratings by suggesting products that resonate with user’s past ratings.\n",
    "\n",
    "\n",
    "### OVERVIEW\n",
    "1. Importing Libraries and Loading Data\n",
    "2. Data Understanding\n",
    "3. Exploratory Data Analysis\n",
    "4. Modeling\n",
    "\n",
    "\n"
   ]
  },
  {
   "cell_type": "markdown",
   "id": "b33b1eb2",
   "metadata": {},
   "source": [
    "### 1. IMPORTING LIBRARIES AND LOADING DATA"
   ]
  },
  {
   "cell_type": "code",
   "execution_count": 1,
   "id": "8754c0cde22d1c5b",
   "metadata": {
    "ExecuteTime": {
     "end_time": "2024-01-13T17:43:42.982848Z",
     "start_time": "2024-01-13T17:43:42.879849400Z"
    },
    "collapsed": false
   },
   "outputs": [],
   "source": [
    "# Importing the relevant libraries\n",
    "import pandas as pd\n",
    "import seaborn as sns\n",
    "import matplotlib.pyplot as plt\n",
    "%matplotlib inline\n",
    "import numpy as np\n",
    "from surprise import Reader, Dataset\n",
    "from surprise import accuracy\n",
    "from surprise.model_selection import cross_validate, train_test_split\n",
    "from surprise.prediction_algorithms import SVD\n",
    "from surprise.prediction_algorithms import KNNWithMeans, KNNBasic, KNNBaseline\n",
    "from surprise.model_selection import GridSearchCV\n",
    "from sklearn.metrics.pairwise import cosine_similarity\n",
    "from IPython.display import HTML\n",
    "import warnings\n",
    "warnings.filterwarnings('ignore')"
   ]
  },
  {
   "cell_type": "code",
   "execution_count": 2,
   "id": "0ed36e63",
   "metadata": {},
   "outputs": [
    {
     "data": {
      "text/html": [
       "<div>\n",
       "<style scoped>\n",
       "    .dataframe tbody tr th:only-of-type {\n",
       "        vertical-align: middle;\n",
       "    }\n",
       "\n",
       "    .dataframe tbody tr th {\n",
       "        vertical-align: top;\n",
       "    }\n",
       "\n",
       "    .dataframe thead th {\n",
       "        text-align: right;\n",
       "    }\n",
       "</style>\n",
       "<table border=\"1\" class=\"dataframe\">\n",
       "  <thead>\n",
       "    <tr style=\"text-align: right;\">\n",
       "      <th></th>\n",
       "      <th>movieId</th>\n",
       "      <th>title</th>\n",
       "      <th>genres</th>\n",
       "      <th>userId</th>\n",
       "      <th>rating</th>\n",
       "      <th>timestamp</th>\n",
       "    </tr>\n",
       "  </thead>\n",
       "  <tbody>\n",
       "    <tr>\n",
       "      <th>0</th>\n",
       "      <td>1</td>\n",
       "      <td>Toy Story (1995)</td>\n",
       "      <td>Adventure|Animation|Children|Comedy|Fantasy</td>\n",
       "      <td>1</td>\n",
       "      <td>4.0</td>\n",
       "      <td>964982703</td>\n",
       "    </tr>\n",
       "    <tr>\n",
       "      <th>1</th>\n",
       "      <td>1</td>\n",
       "      <td>Toy Story (1995)</td>\n",
       "      <td>Adventure|Animation|Children|Comedy|Fantasy</td>\n",
       "      <td>5</td>\n",
       "      <td>4.0</td>\n",
       "      <td>847434962</td>\n",
       "    </tr>\n",
       "    <tr>\n",
       "      <th>2</th>\n",
       "      <td>1</td>\n",
       "      <td>Toy Story (1995)</td>\n",
       "      <td>Adventure|Animation|Children|Comedy|Fantasy</td>\n",
       "      <td>7</td>\n",
       "      <td>4.5</td>\n",
       "      <td>1106635946</td>\n",
       "    </tr>\n",
       "    <tr>\n",
       "      <th>3</th>\n",
       "      <td>1</td>\n",
       "      <td>Toy Story (1995)</td>\n",
       "      <td>Adventure|Animation|Children|Comedy|Fantasy</td>\n",
       "      <td>15</td>\n",
       "      <td>2.5</td>\n",
       "      <td>1510577970</td>\n",
       "    </tr>\n",
       "    <tr>\n",
       "      <th>4</th>\n",
       "      <td>1</td>\n",
       "      <td>Toy Story (1995)</td>\n",
       "      <td>Adventure|Animation|Children|Comedy|Fantasy</td>\n",
       "      <td>17</td>\n",
       "      <td>4.5</td>\n",
       "      <td>1305696483</td>\n",
       "    </tr>\n",
       "    <tr>\n",
       "      <th>...</th>\n",
       "      <td>...</td>\n",
       "      <td>...</td>\n",
       "      <td>...</td>\n",
       "      <td>...</td>\n",
       "      <td>...</td>\n",
       "      <td>...</td>\n",
       "    </tr>\n",
       "    <tr>\n",
       "      <th>100831</th>\n",
       "      <td>193581</td>\n",
       "      <td>Black Butler: Book of the Atlantic (2017)</td>\n",
       "      <td>Action|Animation|Comedy|Fantasy</td>\n",
       "      <td>184</td>\n",
       "      <td>4.0</td>\n",
       "      <td>1537109082</td>\n",
       "    </tr>\n",
       "    <tr>\n",
       "      <th>100832</th>\n",
       "      <td>193583</td>\n",
       "      <td>No Game No Life: Zero (2017)</td>\n",
       "      <td>Animation|Comedy|Fantasy</td>\n",
       "      <td>184</td>\n",
       "      <td>3.5</td>\n",
       "      <td>1537109545</td>\n",
       "    </tr>\n",
       "    <tr>\n",
       "      <th>100833</th>\n",
       "      <td>193585</td>\n",
       "      <td>Flint (2017)</td>\n",
       "      <td>Drama</td>\n",
       "      <td>184</td>\n",
       "      <td>3.5</td>\n",
       "      <td>1537109805</td>\n",
       "    </tr>\n",
       "    <tr>\n",
       "      <th>100834</th>\n",
       "      <td>193587</td>\n",
       "      <td>Bungo Stray Dogs: Dead Apple (2018)</td>\n",
       "      <td>Action|Animation</td>\n",
       "      <td>184</td>\n",
       "      <td>3.5</td>\n",
       "      <td>1537110021</td>\n",
       "    </tr>\n",
       "    <tr>\n",
       "      <th>100835</th>\n",
       "      <td>193609</td>\n",
       "      <td>Andrew Dice Clay: Dice Rules (1991)</td>\n",
       "      <td>Comedy</td>\n",
       "      <td>331</td>\n",
       "      <td>4.0</td>\n",
       "      <td>1537157606</td>\n",
       "    </tr>\n",
       "  </tbody>\n",
       "</table>\n",
       "<p>100836 rows × 6 columns</p>\n",
       "</div>"
      ],
      "text/plain": [
       "        movieId                                      title  \\\n",
       "0             1                           Toy Story (1995)   \n",
       "1             1                           Toy Story (1995)   \n",
       "2             1                           Toy Story (1995)   \n",
       "3             1                           Toy Story (1995)   \n",
       "4             1                           Toy Story (1995)   \n",
       "...         ...                                        ...   \n",
       "100831   193581  Black Butler: Book of the Atlantic (2017)   \n",
       "100832   193583               No Game No Life: Zero (2017)   \n",
       "100833   193585                               Flint (2017)   \n",
       "100834   193587        Bungo Stray Dogs: Dead Apple (2018)   \n",
       "100835   193609        Andrew Dice Clay: Dice Rules (1991)   \n",
       "\n",
       "                                             genres  userId  rating  \\\n",
       "0       Adventure|Animation|Children|Comedy|Fantasy       1     4.0   \n",
       "1       Adventure|Animation|Children|Comedy|Fantasy       5     4.0   \n",
       "2       Adventure|Animation|Children|Comedy|Fantasy       7     4.5   \n",
       "3       Adventure|Animation|Children|Comedy|Fantasy      15     2.5   \n",
       "4       Adventure|Animation|Children|Comedy|Fantasy      17     4.5   \n",
       "...                                             ...     ...     ...   \n",
       "100831              Action|Animation|Comedy|Fantasy     184     4.0   \n",
       "100832                     Animation|Comedy|Fantasy     184     3.5   \n",
       "100833                                        Drama     184     3.5   \n",
       "100834                             Action|Animation     184     3.5   \n",
       "100835                                       Comedy     331     4.0   \n",
       "\n",
       "         timestamp  \n",
       "0        964982703  \n",
       "1        847434962  \n",
       "2       1106635946  \n",
       "3       1510577970  \n",
       "4       1305696483  \n",
       "...            ...  \n",
       "100831  1537109082  \n",
       "100832  1537109545  \n",
       "100833  1537109805  \n",
       "100834  1537110021  \n",
       "100835  1537157606  \n",
       "\n",
       "[100836 rows x 6 columns]"
      ]
     },
     "execution_count": 2,
     "metadata": {},
     "output_type": "execute_result"
    }
   ],
   "source": [
    "def load_and_join_csv(file_path_1, file_path_2):\n",
    "    # Load CSV files into Pandas DataFrames\n",
    "    movies = pd.read_csv(file_path_1)\n",
    "    ratings = pd.read_csv(file_path_2)\n",
    "        \n",
    "    # Perform inner joins to combine the datasets based on common column movieId\n",
    "    movies_ratings_df = pd.merge(movies, ratings, on='movieId', how='inner')\n",
    "      \n",
    "    return movies_ratings_df\n",
    "\n",
    "# Replace  with your actual file paths\n",
    "movie_rating_df = load_and_join_csv(\"ml-latest-small/movies.csv\", \"ml-latest-small/ratings.csv\")\n",
    "\n",
    "# Display the resulting dataset\n",
    "movie_rating_df"
   ]
  },
  {
   "cell_type": "markdown",
   "id": "17fccde1",
   "metadata": {},
   "source": [
    "### 2. DATA UNDERSTANDING\n",
    "\n",
    "The dataset contains 6 columns and 100,836 entries. The 6 columns are `movieId`, `title`, `genres`, `userId`, `rating` and `timestamp`"
   ]
  },
  {
   "cell_type": "code",
   "execution_count": 3,
   "id": "88aa91a9",
   "metadata": {},
   "outputs": [
    {
     "name": "stdout",
     "output_type": "stream",
     "text": [
      "----------------------------Details about the data----------------------------\n",
      " \n",
      "----------------------------Shape of the dataset---------------------------- \n",
      "The dataset is a DataFrame with 100836 rows and 6 columns\n",
      "\n",
      "----------------------------Columns of the dataset---------------------------- \n"
     ]
    },
    {
     "data": {
      "text/plain": [
       "Index(['movieId', 'title', 'genres', 'userId', 'rating', 'timestamp'], dtype='object')"
      ]
     },
     "metadata": {},
     "output_type": "display_data"
    },
    {
     "name": "stdout",
     "output_type": "stream",
     "text": [
      "---------------------------- First 5 records of the dataset---------------------------- \n"
     ]
    },
    {
     "data": {
      "text/html": [
       "<div>\n",
       "<style scoped>\n",
       "    .dataframe tbody tr th:only-of-type {\n",
       "        vertical-align: middle;\n",
       "    }\n",
       "\n",
       "    .dataframe tbody tr th {\n",
       "        vertical-align: top;\n",
       "    }\n",
       "\n",
       "    .dataframe thead th {\n",
       "        text-align: right;\n",
       "    }\n",
       "</style>\n",
       "<table border=\"1\" class=\"dataframe\">\n",
       "  <thead>\n",
       "    <tr style=\"text-align: right;\">\n",
       "      <th></th>\n",
       "      <th>movieId</th>\n",
       "      <th>title</th>\n",
       "      <th>genres</th>\n",
       "      <th>userId</th>\n",
       "      <th>rating</th>\n",
       "      <th>timestamp</th>\n",
       "    </tr>\n",
       "  </thead>\n",
       "  <tbody>\n",
       "    <tr>\n",
       "      <th>0</th>\n",
       "      <td>1</td>\n",
       "      <td>Toy Story (1995)</td>\n",
       "      <td>Adventure|Animation|Children|Comedy|Fantasy</td>\n",
       "      <td>1</td>\n",
       "      <td>4.0</td>\n",
       "      <td>964982703</td>\n",
       "    </tr>\n",
       "    <tr>\n",
       "      <th>1</th>\n",
       "      <td>1</td>\n",
       "      <td>Toy Story (1995)</td>\n",
       "      <td>Adventure|Animation|Children|Comedy|Fantasy</td>\n",
       "      <td>5</td>\n",
       "      <td>4.0</td>\n",
       "      <td>847434962</td>\n",
       "    </tr>\n",
       "    <tr>\n",
       "      <th>2</th>\n",
       "      <td>1</td>\n",
       "      <td>Toy Story (1995)</td>\n",
       "      <td>Adventure|Animation|Children|Comedy|Fantasy</td>\n",
       "      <td>7</td>\n",
       "      <td>4.5</td>\n",
       "      <td>1106635946</td>\n",
       "    </tr>\n",
       "    <tr>\n",
       "      <th>3</th>\n",
       "      <td>1</td>\n",
       "      <td>Toy Story (1995)</td>\n",
       "      <td>Adventure|Animation|Children|Comedy|Fantasy</td>\n",
       "      <td>15</td>\n",
       "      <td>2.5</td>\n",
       "      <td>1510577970</td>\n",
       "    </tr>\n",
       "    <tr>\n",
       "      <th>4</th>\n",
       "      <td>1</td>\n",
       "      <td>Toy Story (1995)</td>\n",
       "      <td>Adventure|Animation|Children|Comedy|Fantasy</td>\n",
       "      <td>17</td>\n",
       "      <td>4.5</td>\n",
       "      <td>1305696483</td>\n",
       "    </tr>\n",
       "  </tbody>\n",
       "</table>\n",
       "</div>"
      ],
      "text/plain": [
       "   movieId             title                                       genres  \\\n",
       "0        1  Toy Story (1995)  Adventure|Animation|Children|Comedy|Fantasy   \n",
       "1        1  Toy Story (1995)  Adventure|Animation|Children|Comedy|Fantasy   \n",
       "2        1  Toy Story (1995)  Adventure|Animation|Children|Comedy|Fantasy   \n",
       "3        1  Toy Story (1995)  Adventure|Animation|Children|Comedy|Fantasy   \n",
       "4        1  Toy Story (1995)  Adventure|Animation|Children|Comedy|Fantasy   \n",
       "\n",
       "   userId  rating   timestamp  \n",
       "0       1     4.0   964982703  \n",
       "1       5     4.0   847434962  \n",
       "2       7     4.5  1106635946  \n",
       "3      15     2.5  1510577970  \n",
       "4      17     4.5  1305696483  "
      ]
     },
     "metadata": {},
     "output_type": "display_data"
    },
    {
     "name": "stdout",
     "output_type": "stream",
     "text": [
      "\n",
      "----------------------------Data information ----------------------------\n",
      "<class 'pandas.core.frame.DataFrame'>\n",
      "Int64Index: 100836 entries, 0 to 100835\n",
      "Data columns (total 6 columns):\n",
      " #   Column     Non-Null Count   Dtype  \n",
      "---  ------     --------------   -----  \n",
      " 0   movieId    100836 non-null  int64  \n",
      " 1   title      100836 non-null  object \n",
      " 2   genres     100836 non-null  object \n",
      " 3   userId     100836 non-null  int64  \n",
      " 4   rating     100836 non-null  float64\n",
      " 5   timestamp  100836 non-null  int64  \n",
      "dtypes: float64(1), int64(3), object(2)\n",
      "memory usage: 5.4+ MB\n"
     ]
    },
    {
     "data": {
      "text/plain": [
       "None"
      ]
     },
     "metadata": {},
     "output_type": "display_data"
    },
    {
     "name": "stdout",
     "output_type": "stream",
     "text": [
      "\n",
      "----------------------------Null Values ----------------------------\n"
     ]
    },
    {
     "data": {
      "text/plain": [
       "movieId      0\n",
       "title        0\n",
       "genres       0\n",
       "userId       0\n",
       "rating       0\n",
       "timestamp    0\n",
       "dtype: int64"
      ]
     },
     "metadata": {},
     "output_type": "display_data"
    },
    {
     "name": "stdout",
     "output_type": "stream",
     "text": [
      "\n",
      "----------------------------Duplicate Values ----------------------------\n",
      "0 duplicate values\n"
     ]
    }
   ],
   "source": [
    "def examine_data(df):\n",
    "    # Display the shape, columns and the first few rows of the dataset\n",
    "    print(\"----------------------------Details about the data----------------------------\\n \")\n",
    "    print(\"----------------------------Shape of the dataset---------------------------- \")\n",
    "    print(f\"The dataset is a DataFrame with {df.shape[0]} rows and {df.shape[1]} columns\\n\")\n",
    "    print(\"----------------------------Columns of the dataset---------------------------- \")\n",
    "    display(df.columns)\n",
    "    print(\"---------------------------- First 5 records of the dataset---------------------------- \")\n",
    "    display(df.head())\n",
    "    # Display information about the dataset\n",
    "    print(\"\\n----------------------------Data information ----------------------------\")\n",
    "    display(df.info())\n",
    "    print(\"\\n----------------------------Null Values ----------------------------\")\n",
    "    display(df.isnull().sum())\n",
    "    print(\"\\n----------------------------Duplicate Values ----------------------------\")\n",
    "    print(df.duplicated().sum(), 'duplicate values')\n",
    "    return df\n",
    "          \n",
    "              \n",
    "# Replace with your dataframe\n",
    "df = examine_data(movie_rating_df)"
   ]
  },
  {
   "cell_type": "markdown",
   "id": "eba3e864",
   "metadata": {},
   "source": [
    "### 3. EXPLORATORY DATA ANALYSIS\n",
    "A brief statistical summary below of the numerical data provides insight into the distribution of the data by providing an overview of its central tendency and spread. In data ananlsis we look at the different components that make up the dataset. The insight will greatly inform the modelling. For our analysis we will start by looking for information of the structure and distribution of the dataset."
   ]
  },
  {
   "cell_type": "code",
   "execution_count": 4,
   "id": "bf3bddfc",
   "metadata": {},
   "outputs": [
    {
     "data": {
      "text/html": [
       "<div>\n",
       "<style scoped>\n",
       "    .dataframe tbody tr th:only-of-type {\n",
       "        vertical-align: middle;\n",
       "    }\n",
       "\n",
       "    .dataframe tbody tr th {\n",
       "        vertical-align: top;\n",
       "    }\n",
       "\n",
       "    .dataframe thead th {\n",
       "        text-align: right;\n",
       "    }\n",
       "</style>\n",
       "<table border=\"1\" class=\"dataframe\">\n",
       "  <thead>\n",
       "    <tr style=\"text-align: right;\">\n",
       "      <th></th>\n",
       "      <th>movieId</th>\n",
       "      <th>userId</th>\n",
       "      <th>rating</th>\n",
       "      <th>timestamp</th>\n",
       "    </tr>\n",
       "  </thead>\n",
       "  <tbody>\n",
       "    <tr>\n",
       "      <th>count</th>\n",
       "      <td>100836.000000</td>\n",
       "      <td>100836.000000</td>\n",
       "      <td>100836.000000</td>\n",
       "      <td>1.008360e+05</td>\n",
       "    </tr>\n",
       "    <tr>\n",
       "      <th>mean</th>\n",
       "      <td>19435.295718</td>\n",
       "      <td>326.127564</td>\n",
       "      <td>3.501557</td>\n",
       "      <td>1.205946e+09</td>\n",
       "    </tr>\n",
       "    <tr>\n",
       "      <th>std</th>\n",
       "      <td>35530.987199</td>\n",
       "      <td>182.618491</td>\n",
       "      <td>1.042529</td>\n",
       "      <td>2.162610e+08</td>\n",
       "    </tr>\n",
       "    <tr>\n",
       "      <th>min</th>\n",
       "      <td>1.000000</td>\n",
       "      <td>1.000000</td>\n",
       "      <td>0.500000</td>\n",
       "      <td>8.281246e+08</td>\n",
       "    </tr>\n",
       "    <tr>\n",
       "      <th>25%</th>\n",
       "      <td>1199.000000</td>\n",
       "      <td>177.000000</td>\n",
       "      <td>3.000000</td>\n",
       "      <td>1.019124e+09</td>\n",
       "    </tr>\n",
       "    <tr>\n",
       "      <th>50%</th>\n",
       "      <td>2991.000000</td>\n",
       "      <td>325.000000</td>\n",
       "      <td>3.500000</td>\n",
       "      <td>1.186087e+09</td>\n",
       "    </tr>\n",
       "    <tr>\n",
       "      <th>75%</th>\n",
       "      <td>8122.000000</td>\n",
       "      <td>477.000000</td>\n",
       "      <td>4.000000</td>\n",
       "      <td>1.435994e+09</td>\n",
       "    </tr>\n",
       "    <tr>\n",
       "      <th>max</th>\n",
       "      <td>193609.000000</td>\n",
       "      <td>610.000000</td>\n",
       "      <td>5.000000</td>\n",
       "      <td>1.537799e+09</td>\n",
       "    </tr>\n",
       "  </tbody>\n",
       "</table>\n",
       "</div>"
      ],
      "text/plain": [
       "             movieId         userId         rating     timestamp\n",
       "count  100836.000000  100836.000000  100836.000000  1.008360e+05\n",
       "mean    19435.295718     326.127564       3.501557  1.205946e+09\n",
       "std     35530.987199     182.618491       1.042529  2.162610e+08\n",
       "min         1.000000       1.000000       0.500000  8.281246e+08\n",
       "25%      1199.000000     177.000000       3.000000  1.019124e+09\n",
       "50%      2991.000000     325.000000       3.500000  1.186087e+09\n",
       "75%      8122.000000     477.000000       4.000000  1.435994e+09\n",
       "max    193609.000000     610.000000       5.000000  1.537799e+09"
      ]
     },
     "metadata": {},
     "output_type": "display_data"
    },
    {
     "name": "stdout",
     "output_type": "stream",
     "text": [
      "-------------Data Details---------------\n",
      "Number of unique users: 610\n",
      "Number of unique movies: 9724\n"
     ]
    }
   ],
   "source": [
    "def data_analysis(df):\n",
    "    display(df.describe())\n",
    "    print('-------------Data Details---------------')\n",
    "    print(f'Number of unique users:', movie_rating_df.userId.nunique())\n",
    "    print(f'Number of unique movies:', movie_rating_df.movieId.nunique())\n",
    "\n",
    "data_analysis(movie_rating_df)"
   ]
  },
  {
   "cell_type": "markdown",
   "id": "0d2537c1",
   "metadata": {},
   "source": [
    "### 3.1 UNIVARIATE DATA ANALYSIS\n",
    "#### 3.1.1 COUNT PLOTS"
   ]
  },
  {
   "cell_type": "markdown",
   "id": "c0aec682",
   "metadata": {},
   "source": [
    "After the initial analysis we jump right into plotting the different columns in the dataset to see the distribution. We will do this by first doing a univariate analysis which will be looking at the distributions of individual columns. The columns we have singled out are: rating, title."
   ]
  },
  {
   "cell_type": "code",
   "execution_count": 5,
   "id": "f85d3c69",
   "metadata": {},
   "outputs": [],
   "source": [
    "\n",
    "# A function to create plots\n",
    "def create_plots(df, plot_type, columns_to_plot = None, y = None):\n",
    "    if plot_type == 'count_plot':\n",
    "        plt.figure(figsize=(12,8))\n",
    "        sns.countplot(data=df, x=columns_to_plot)\n",
    "        plt.title(f'Distribution of movie {columns_to_plot}')\n",
    "        plt.xticks(rotation=90)\n",
    "        plt.show()\n",
    "    elif plot_type == 'bar_plot1':\n",
    "        plt.figure(figsize=(12, 7))\n",
    "        sns.barplot(columns_to_plot.index, columns_to_plot.values)\n",
    "        plt.title('Top 10 most frequently rated movies')\n",
    "        plt.xlabel('Movie tile')\n",
    "        plt.xticks(rotation=90)\n",
    "        plt.ylabel('Count')\n",
    "        plt.show()\n",
    "    elif plot_type == 'bar_plot2':\n",
    "        plt.figure(figsize=(12, 7))\n",
    "        sns.barplot(columns_to_plot.index, columns_to_plot.values)\n",
    "        plt.title('Top 10 most frequently rated movies and their average ratings')\n",
    "        plt.xlabel('Movie tile')\n",
    "        plt.xticks(rotation=90)\n",
    "        plt.ylabel('Average Rating')\n",
    "        plt.show()"
   ]
  },
  {
   "cell_type": "code",
   "execution_count": 6,
   "id": "7447085f",
   "metadata": {},
   "outputs": [
    {
     "data": {
      "image/png": "[encoded data removed]",
      "text/plain": [
       "<Figure size 864x576 with 1 Axes>"
      ]
     },
     "metadata": {
      "needs_background": "light"
     },
     "output_type": "display_data"
    }
   ],
   "source": [
    "create_plots(movie_rating_df, 'count_plot', 'rating')"
   ]
  },
  {
   "cell_type": "code",
   "execution_count": 7,
   "id": "04190766",
   "metadata": {},
   "outputs": [
    {
     "data": {
      "image/png": "[encoded data removed]",
      "text/plain": [
       "<Figure size 864x504 with 1 Axes>"
      ]
     },
     "metadata": {
      "needs_background": "light"
     },
     "output_type": "display_data"
    }
   ],
   "source": [
    "top_10_views = movie_rating_df['title'].value_counts().head(10)\n",
    "\n",
    "create_plots(movie_rating_df, 'bar_plot1', top_10_views)"
   ]
  },
  {
   "cell_type": "markdown",
   "id": "e7065b1e",
   "metadata": {},
   "source": [
    "From the analysis conducted we find that most movies are rated at a 4 on a scale of 1 to 5 and the most popular movie is Forrest Gump(1994). This indicates that most users are having a good user experience so far with the current recommendations. The next step is would be to plot a graph indicating the most popular genres. "
   ]
  },
  {
   "cell_type": "code",
   "execution_count": 8,
   "id": "b324f730",
   "metadata": {},
   "outputs": [
    {
     "data": {
      "text/plain": [
       "Counter({'Adventure': 24161,\n",
       "         'Animation': 6988,\n",
       "         'Children': 9208,\n",
       "         'Comedy': 39053,\n",
       "         'Fantasy': 11834,\n",
       "         'Romance': 18124,\n",
       "         'Drama': 41928,\n",
       "         'Action': 30635,\n",
       "         'Crime': 16681,\n",
       "         'Thriller': 26452,\n",
       "         'Horror': 7291,\n",
       "         'Mystery': 7674,\n",
       "         'Sci-Fi': 17243,\n",
       "         'War': 4859,\n",
       "         'Musical': 4138,\n",
       "         'Documentary': 1219,\n",
       "         'IMAX': 4145,\n",
       "         'Western': 1930,\n",
       "         'Film-Noir': 870,\n",
       "         '(no genres listed)': 47})"
      ]
     },
     "execution_count": 8,
     "metadata": {},
     "output_type": "execute_result"
    }
   ],
   "source": [
    "# Splitting the genres\n",
    "def splitting_string(movies):\n",
    "    movies['genres'] = movies['genres'].apply(lambda x: x.split('|'))\n",
    "    from collections import Counter\n",
    "    genre_frequency = Counter(g for genres in movies['genres'] for g in genres)\n",
    "    \n",
    "    return genre_frequency\n",
    "\n",
    "splitting_string(movie_rating_df)"
   ]
  },
  {
   "cell_type": "markdown",
   "id": "d376808d",
   "metadata": {},
   "source": [
    "Next, we create a copy of the dataset to preserve the original dataset to ensure reproducibility and easy testing and debugging.After which we join all the columns i nto a single dataset so we can start our univariate analysis."
   ]
  },
  {
   "cell_type": "code",
   "execution_count": 9,
   "id": "323353b7",
   "metadata": {},
   "outputs": [
    {
     "data": {
      "text/html": [
       "<div>\n",
       "<style scoped>\n",
       "    .dataframe tbody tr th:only-of-type {\n",
       "        vertical-align: middle;\n",
       "    }\n",
       "\n",
       "    .dataframe tbody tr th {\n",
       "        vertical-align: top;\n",
       "    }\n",
       "\n",
       "    .dataframe thead th {\n",
       "        text-align: right;\n",
       "    }\n",
       "</style>\n",
       "<table border=\"1\" class=\"dataframe\">\n",
       "  <thead>\n",
       "    <tr style=\"text-align: right;\">\n",
       "      <th></th>\n",
       "      <th>movieId</th>\n",
       "      <th>title</th>\n",
       "      <th>genres</th>\n",
       "      <th>userId</th>\n",
       "      <th>rating</th>\n",
       "      <th>timestamp</th>\n",
       "    </tr>\n",
       "  </thead>\n",
       "  <tbody>\n",
       "    <tr>\n",
       "      <th>0</th>\n",
       "      <td>1</td>\n",
       "      <td>Toy Story (1995)</td>\n",
       "      <td>Adventure</td>\n",
       "      <td>1</td>\n",
       "      <td>4.0</td>\n",
       "      <td>964982703</td>\n",
       "    </tr>\n",
       "    <tr>\n",
       "      <th>0</th>\n",
       "      <td>1</td>\n",
       "      <td>Toy Story (1995)</td>\n",
       "      <td>Animation</td>\n",
       "      <td>1</td>\n",
       "      <td>4.0</td>\n",
       "      <td>964982703</td>\n",
       "    </tr>\n",
       "    <tr>\n",
       "      <th>0</th>\n",
       "      <td>1</td>\n",
       "      <td>Toy Story (1995)</td>\n",
       "      <td>Children</td>\n",
       "      <td>1</td>\n",
       "      <td>4.0</td>\n",
       "      <td>964982703</td>\n",
       "    </tr>\n",
       "    <tr>\n",
       "      <th>0</th>\n",
       "      <td>1</td>\n",
       "      <td>Toy Story (1995)</td>\n",
       "      <td>Comedy</td>\n",
       "      <td>1</td>\n",
       "      <td>4.0</td>\n",
       "      <td>964982703</td>\n",
       "    </tr>\n",
       "    <tr>\n",
       "      <th>0</th>\n",
       "      <td>1</td>\n",
       "      <td>Toy Story (1995)</td>\n",
       "      <td>Fantasy</td>\n",
       "      <td>1</td>\n",
       "      <td>4.0</td>\n",
       "      <td>964982703</td>\n",
       "    </tr>\n",
       "    <tr>\n",
       "      <th>...</th>\n",
       "      <td>...</td>\n",
       "      <td>...</td>\n",
       "      <td>...</td>\n",
       "      <td>...</td>\n",
       "      <td>...</td>\n",
       "      <td>...</td>\n",
       "    </tr>\n",
       "    <tr>\n",
       "      <th>100832</th>\n",
       "      <td>193583</td>\n",
       "      <td>No Game No Life: Zero (2017)</td>\n",
       "      <td>Fantasy</td>\n",
       "      <td>184</td>\n",
       "      <td>3.5</td>\n",
       "      <td>1537109545</td>\n",
       "    </tr>\n",
       "    <tr>\n",
       "      <th>100833</th>\n",
       "      <td>193585</td>\n",
       "      <td>Flint (2017)</td>\n",
       "      <td>Drama</td>\n",
       "      <td>184</td>\n",
       "      <td>3.5</td>\n",
       "      <td>1537109805</td>\n",
       "    </tr>\n",
       "    <tr>\n",
       "      <th>100834</th>\n",
       "      <td>193587</td>\n",
       "      <td>Bungo Stray Dogs: Dead Apple (2018)</td>\n",
       "      <td>Action</td>\n",
       "      <td>184</td>\n",
       "      <td>3.5</td>\n",
       "      <td>1537110021</td>\n",
       "    </tr>\n",
       "    <tr>\n",
       "      <th>100834</th>\n",
       "      <td>193587</td>\n",
       "      <td>Bungo Stray Dogs: Dead Apple (2018)</td>\n",
       "      <td>Animation</td>\n",
       "      <td>184</td>\n",
       "      <td>3.5</td>\n",
       "      <td>1537110021</td>\n",
       "    </tr>\n",
       "    <tr>\n",
       "      <th>100835</th>\n",
       "      <td>193609</td>\n",
       "      <td>Andrew Dice Clay: Dice Rules (1991)</td>\n",
       "      <td>Comedy</td>\n",
       "      <td>331</td>\n",
       "      <td>4.0</td>\n",
       "      <td>1537157606</td>\n",
       "    </tr>\n",
       "  </tbody>\n",
       "</table>\n",
       "<p>274480 rows × 6 columns</p>\n",
       "</div>"
      ],
      "text/plain": [
       "        movieId                                title     genres  userId  \\\n",
       "0             1                     Toy Story (1995)  Adventure       1   \n",
       "0             1                     Toy Story (1995)  Animation       1   \n",
       "0             1                     Toy Story (1995)   Children       1   \n",
       "0             1                     Toy Story (1995)     Comedy       1   \n",
       "0             1                     Toy Story (1995)    Fantasy       1   \n",
       "...         ...                                  ...        ...     ...   \n",
       "100832   193583         No Game No Life: Zero (2017)    Fantasy     184   \n",
       "100833   193585                         Flint (2017)      Drama     184   \n",
       "100834   193587  Bungo Stray Dogs: Dead Apple (2018)     Action     184   \n",
       "100834   193587  Bungo Stray Dogs: Dead Apple (2018)  Animation     184   \n",
       "100835   193609  Andrew Dice Clay: Dice Rules (1991)     Comedy     331   \n",
       "\n",
       "        rating   timestamp  \n",
       "0          4.0   964982703  \n",
       "0          4.0   964982703  \n",
       "0          4.0   964982703  \n",
       "0          4.0   964982703  \n",
       "0          4.0   964982703  \n",
       "...        ...         ...  \n",
       "100832     3.5  1537109545  \n",
       "100833     3.5  1537109805  \n",
       "100834     3.5  1537110021  \n",
       "100834     3.5  1537110021  \n",
       "100835     4.0  1537157606  \n",
       "\n",
       "[274480 rows x 6 columns]"
      ]
     },
     "execution_count": 9,
     "metadata": {},
     "output_type": "execute_result"
    }
   ],
   "source": [
    "exploded_genres_df = movie_rating_df.copy()\n",
    "exploded_genres_df = exploded_genres_df.explode('genres')\n",
    "exploded_genres_df"
   ]
  },
  {
   "cell_type": "code",
   "execution_count": 10,
   "id": "32a7ba00",
   "metadata": {},
   "outputs": [
    {
     "data": {
      "image/png": "[encoded data removed]",
      "text/plain": [
       "<Figure size 864x576 with 1 Axes>"
      ]
     },
     "metadata": {
      "needs_background": "light"
     },
     "output_type": "display_data"
    }
   ],
   "source": [
    "create_plots(exploded_genres_df, 'count_plot', 'genres')"
   ]
  },
  {
   "cell_type": "markdown",
   "id": "c92a7f6e",
   "metadata": {},
   "source": [
    "### 3.1.2 BIVARIATE DATA ANALYSIS"
   ]
  },
  {
   "cell_type": "markdown",
   "id": "de55c345",
   "metadata": {},
   "source": [
    "Bivariate analysis is used to explore the relationship between two variables. It involves the simultaneous analysis of two variables to understand the patterns of their variation, co-variation, and potential relationships. The primary goal of bivariate analysis is to uncover patterns, associations, and dependencies between the two variables being studied. "
   ]
  },
  {
   "cell_type": "code",
   "execution_count": 11,
   "id": "5319f93c",
   "metadata": {},
   "outputs": [
    {
     "data": {
      "image/png": "[encoded data removed]",
      "text/plain": [
       "<Figure size 864x504 with 1 Axes>"
      ]
     },
     "metadata": {
      "needs_background": "light"
     },
     "output_type": "display_data"
    }
   ],
   "source": [
    "top_10_views = movie_rating_df['title'].value_counts().nlargest(10)\n",
    "average_ratings = movie_rating_df.groupby('title')['rating'].mean().loc[top_10_views.index]\n",
    "\n",
    "\n",
    "create_plots(movie_rating_df, 'bar_plot2', average_ratings)"
   ]
  },
  {
   "cell_type": "code",
   "execution_count": 12,
   "id": "44c6b595",
   "metadata": {},
   "outputs": [
    {
     "data": {
      "image/png": "[encoded data removed]",
      "text/plain": [
       "<Figure size 864x432 with 1 Axes>"
      ]
     },
     "metadata": {
      "needs_background": "light"
     },
     "output_type": "display_data"
    }
   ],
   "source": [
    "def bar_plot(x, y, data):\n",
    "    \n",
    "    plt.figure(figsize=(12,6))\n",
    "    \n",
    "    sns.barplot(x=x, y=y, data=data)\n",
    "    plt.title('Genres and their average ratings')\n",
    "    plt.xlabel(f'{x}')\n",
    "    plt.xticks(rotation=90)\n",
    "    plt.ylabel(f'{y}')\n",
    "    plt.show()\n",
    "\n",
    "bar_plot('genres', 'rating', exploded_genres_df)"
   ]
  },
  {
   "cell_type": "code",
   "execution_count": 13,
   "id": "27910207",
   "metadata": {},
   "outputs": [
    {
     "data": {
      "image/png": "[encoded data removed]",
      "text/plain": [
       "<Figure size 1656x720 with 1 Axes>"
      ]
     },
     "metadata": {
      "needs_background": "light"
     },
     "output_type": "display_data"
    }
   ],
   "source": [
    "plt.figure(figsize=(23,10))\n",
    "sns.countplot(data=exploded_genres_df, x='genres', hue='rating')\n",
    "plt.title(f'Distribution of rating per genre')\n",
    "plt.show()"
   ]
  },
  {
   "cell_type": "code",
   "execution_count": 14,
   "id": "318b48fa",
   "metadata": {},
   "outputs": [
    {
     "name": "stdout",
     "output_type": "stream",
     "text": [
      "......The top 20 highest rated movies........\n",
      " title\n",
      "Karlson Returns (1970)                               5.0\n",
      "Winter in Prostokvashino (1984)                      5.0\n",
      "My Love (2006)                                       5.0\n",
      "Sorority House Massacre II (1990)                    5.0\n",
      "Winnie the Pooh and the Day of Concern (1972)        5.0\n",
      "Sorority House Massacre (1986)                       5.0\n",
      "Bill Hicks: Revelations (1993)                       5.0\n",
      "My Man Godfrey (1957)                                5.0\n",
      "Hellbenders (2012)                                   5.0\n",
      "In the blue sea, in the white foam. (1984)           5.0\n",
      "Won't You Be My Neighbor? (2018)                     5.0\n",
      "Red Sorghum (Hong gao liang) (1987)                  5.0\n",
      "Love Exposure (Ai No Mukidashi) (2008)               5.0\n",
      "My Sassy Girl (Yeopgijeogin geunyeo) (2001)          5.0\n",
      "The Love Bug (1997)                                  5.0\n",
      "Ballad of Narayama, The (Narayama bushiko) (1983)    5.0\n",
      "Heidi Fleiss: Hollywood Madam (1995)                 5.0\n",
      "Louis Theroux: Law & Disorder (2008)                 5.0\n",
      "Winnie the Pooh Goes Visiting (1971)                 5.0\n",
      "In the Realm of the Senses (Ai no corrida) (1976)    5.0\n",
      "Name: rating, dtype: float64\n",
      "\n",
      ".....The bottom 20 lowest rated movies....\n",
      " title\n",
      "3 Ninjas Knuckle Up (1995)                            0.5\n",
      "My Bloody Valentine (1981)                            0.5\n",
      "3 dev adam (Three Giant Men) (1973)                   0.5\n",
      "Superfast! (2015)                                     0.5\n",
      "Crow, The: Wicked Prayer (2005)                       0.5\n",
      "Survivor (2015)                                       0.5\n",
      "Mortal Kombat: The Journey Begins (1995)              0.5\n",
      "Bad Santa 2 (2016)                                    0.5\n",
      "Cyborg (1989)                                         0.5\n",
      "Hard Ticket to Hawaii (1987)                          0.5\n",
      "Baby Boy (2001)                                       0.5\n",
      "Midnight Chronicles (2009)                            0.5\n",
      "Haunted House 2, A (2014)                             0.5\n",
      "Maria Bamford: The Special Special Special! (2012)    0.5\n",
      "Dead of Night (1945)                                  0.5\n",
      "The Beast of Hollow Mountain (1956)                   0.5\n",
      "Follow Me, Boys! (1966)                               0.5\n",
      "The Butterfly Effect 3: Revelations (2009)            0.5\n",
      "The Emoji Movie (2017)                                0.5\n",
      "Rust and Bone (De rouille et d'os) (2012)             0.5\n",
      "Name: rating, dtype: float64\n"
     ]
    }
   ],
   "source": [
    "def sort_movie_ratings(movie, order):\n",
    "    mean_rating = movie.groupby('title')[['rating']].mean()\n",
    "    mean_rating_sorted = mean_rating['rating'].sort_values(ascending=False)\n",
    "    if order == 'top':\n",
    "        ranked_movies = mean_rating_sorted.head(20)\n",
    "    elif order == 'bottom':\n",
    "        ranked_movies = mean_rating_sorted.tail(20)\n",
    "    return ranked_movies\n",
    "\n",
    "print(\"......The top 20 highest rated movies........\\n\", sort_movie_ratings(movie_rating_df, 'top'))\n",
    "print(\"\\n.....The bottom 20 lowest rated movies....\\n\", sort_movie_ratings(movie_rating_df, 'bottom'))"
   ]
  },
  {
   "cell_type": "markdown",
   "id": "ba81442c",
   "metadata": {},
   "source": [
    "From the analysis we find that Shawshank Redemption is the most ratings. This is an average of all the ratings.The ratings for the genres is higher in film noir which is stylized Hollywood crime dramas, particularly those that emphasize cynical attitudes and motivations. The 1940s and 1950s are generally regarded as the \"classic period\" of American film noir. The last model was a comparison across the different film genres where the drama genre had the highest ratings."
   ]
  },
  {
   "cell_type": "markdown",
   "id": "030320f4",
   "metadata": {},
   "source": [
    "## 4. MODELING\n",
    "The technique used is collaborative filtering which relies on the idea that individuals with similar preferences tend to enjoy similar items or content."
   ]
  },
  {
   "cell_type": "code",
   "execution_count": 15,
   "id": "18d6fcc8",
   "metadata": {},
   "outputs": [
    {
     "name": "stdout",
     "output_type": "stream",
     "text": [
      "Number of users:  610 \n",
      "\n",
      "Number of items:  8995 \n",
      "\n"
     ]
    }
   ],
   "source": [
    "# Select the necessary columns from the dataset \n",
    "user_item_df = movie_rating_df[['userId', 'movieId', 'rating']]\n",
    "\n",
    "# Transform the pandas dataframe into Surprise dataset \n",
    "reader = Reader()\n",
    "data = Dataset.load_from_df(user_item_df, reader)\n",
    "\n",
    "# Split into train and test sets\n",
    "trainset, testset = train_test_split(data, test_size=0.2, random_state=111)\n",
    "\n",
    "# Print the number of unique users and items in the dataset\n",
    "print(\"Number of users: \", trainset.n_users, \"\\n\")\n",
    "print(\"Number of items: \", trainset.n_items, \"\\n\")"
   ]
  },
  {
   "cell_type": "markdown",
   "id": "c0e12ecc",
   "metadata": {},
   "source": [
    "* The Dataset is successfully transformed into a Surprise datset for collaborative filtering\n",
    "* The training set contains 610 unique users and 8995 unique items (movies)\n",
    "* The data is prepared for building and evaluating collaborative filtering models"
   ]
  },
  {
   "cell_type": "markdown",
   "id": "2b6ee559",
   "metadata": {},
   "source": [
    "#### Modeling Functions"
   ]
  },
  {
   "cell_type": "code",
   "execution_count": 16,
   "id": "341d6d72",
   "metadata": {},
   "outputs": [],
   "source": [
    "# Function to create the model\n",
    "def model_creation(approach, trainset, testset):\n",
    "    if approach == SVD:\n",
    "        model = approach(n_factors= 50, reg_all=0.05, random_state = 111)\n",
    "        model.fit(trainset)\n",
    "        print(f'{approach.__name__} RMSE:', accuracy.rmse(model.test(testset)))\n",
    "    else:    \n",
    "        model = approach(sim_options={'name':'pearson', 'user_based':True},  random_state=111)\n",
    "        model.fit(trainset)\n",
    "        print(f'{approach.__name__} RMSE:', accuracy.rmse(model.test(testset)))   \n",
    "\n",
    "\n",
    "\n",
    "# Function to perform Grid Search\n",
    "def param_grid_search(model_to_tune): \n",
    "    \n",
    "    # Setting relevant parameters for Gridsearch\n",
    "    grid = {\n",
    "        'k': [30, 40],   # Number of neighbors\n",
    "        'sim_options': {\n",
    "            'name': ['cosine', 'pearson'],  # Similarity measures\n",
    "            'user_based': [True],  # User-based collaborative filtering\n",
    "        },\n",
    "    }\n",
    "    # Creating a parameter grid search for SVD model\n",
    "    params = {'n_factors': [20, 50, 100],\n",
    "         'reg_all': [0.02, 0.05, 0.1],\n",
    "        #  'n_epochs': [5,10],\n",
    "        # 'lr_all': [0.002,0.005]\n",
    "         }\n",
    "\n",
    "    # Running grid search with the defined parameter grid\n",
    "    if model_to_tune == SVD:\n",
    "        grid_search = GridSearchCV(model_to_tune, params,\n",
    "                                    measures=['rmse'], n_jobs=-1)\n",
    "    else:\n",
    "        grid_search = GridSearchCV(model_to_tune, grid,\n",
    "                                    measures=['rmse'], n_jobs=-1)\n",
    "    grid_search.fit(data)\n",
    "    print(f\"Best RMSE for {model_to_tune.__name__}: {grid_search.best_score}\")\n",
    "    print(f\"Best Hyperparameters for {model_to_tune.__name__}: {grid_search.best_params}\")\n",
    "\n",
    "    "
   ]
  },
  {
   "cell_type": "markdown",
   "id": "4ab25126",
   "metadata": {},
   "source": [
    "* Here the Grid Search is set up inorder to find the optimal hyperparameters for the Models used in the functions"
   ]
  },
  {
   "cell_type": "markdown",
   "id": "dccbeaf2",
   "metadata": {},
   "source": [
    "### MODEL 1: KNN BASIC MODEL\n",
    "\n",
    "#### Building and Tuning KNN Basic Model"
   ]
  },
  {
   "cell_type": "markdown",
   "id": "03a8656b",
   "metadata": {},
   "source": [
    "#### Building the KNN Basic Model"
   ]
  },
  {
   "cell_type": "code",
   "execution_count": 17,
   "id": "da07ea6d",
   "metadata": {},
   "outputs": [
    {
     "name": "stdout",
     "output_type": "stream",
     "text": [
      "Computing the pearson similarity matrix...\n",
      "Done computing similarity matrix.\n",
      "RMSE: 0.9721\n",
      "KNNBasic RMSE: 0.9720846164183417\n"
     ]
    }
   ],
   "source": [
    "# Build a KNNBasic model\n",
    "model_creation(KNNBasic, trainset, testset)"
   ]
  },
  {
   "cell_type": "markdown",
   "id": "a96eef7e",
   "metadata": {},
   "source": [
    ">* KNNBasic model is built using collaborative filtering.\n",
    ">* The initial RMSE for KNNBasic is 0.9721."
   ]
  },
  {
   "cell_type": "markdown",
   "id": "f393f4f3",
   "metadata": {},
   "source": [
    "#### Tuning the KNNBasic Model"
   ]
  },
  {
   "cell_type": "code",
   "execution_count": 18,
   "id": "77326b44",
   "metadata": {},
   "outputs": [
    {
     "name": "stdout",
     "output_type": "stream",
     "text": [
      "Best RMSE for KNNBasic: {'rmse': 0.9726924865744383}\n",
      "Best Hyperparameters for KNNBasic: {'rmse': {'k': 40, 'sim_options': {'name': 'cosine', 'user_based': True}}}\n"
     ]
    }
   ],
   "source": [
    "# Grid search for KNNBasic Model\n",
    "param_grid_search(KNNBasic)"
   ]
  },
  {
   "cell_type": "markdown",
   "id": "d729da75",
   "metadata": {},
   "source": [
    "> * Grid search has performed to find optimal hyperparameters for the KNNBasic model.\n",
    "> * The best hyperparameters include 40 neighbors with cosine similarity for user-based collaborative filtering.\n",
    "> * The tuned RMSE for KNNBasic is 0.9724, which is slightly worse than the initial model from the build one which was 0.9721 "
   ]
  },
  {
   "cell_type": "markdown",
   "id": "daec5e90",
   "metadata": {},
   "source": [
    "### MODEL 2: KNNBaseline Model\n",
    "\n",
    "#### Building and Tuning KNNBaseline Model"
   ]
  },
  {
   "cell_type": "markdown",
   "id": "1c7476f1",
   "metadata": {},
   "source": [
    "#### Building The KNNBaseline Model"
   ]
  },
  {
   "cell_type": "code",
   "execution_count": 19,
   "id": "00521c62",
   "metadata": {},
   "outputs": [
    {
     "name": "stdout",
     "output_type": "stream",
     "text": [
      "Estimating biases using als...\n",
      "Computing the pearson similarity matrix...\n",
      "Done computing similarity matrix.\n",
      "RMSE: 0.8790\n",
      "KNNBaseline RMSE: 0.8789611074934803\n"
     ]
    }
   ],
   "source": [
    "# Build a KNNBaseline model\n",
    "model_creation(KNNBaseline, trainset, testset)"
   ]
  },
  {
   "cell_type": "markdown",
   "id": "ecf85513",
   "metadata": {},
   "source": [
    "> The RMSE for KNNBaseline is 0.8790, indicating improved performance compared to KNNBasic."
   ]
  },
  {
   "cell_type": "markdown",
   "id": "b55f52a2",
   "metadata": {},
   "source": [
    "#### Tuning the KNNBaseline Model"
   ]
  },
  {
   "cell_type": "code",
   "execution_count": 20,
   "id": "3e0adf0b",
   "metadata": {},
   "outputs": [
    {
     "name": "stdout",
     "output_type": "stream",
     "text": [
      "Best RMSE for KNNBaseline: {'rmse': 0.8772228100661799}\n",
      "Best Hyperparameters for KNNBaseline: {'rmse': {'k': 40, 'sim_options': {'name': 'pearson', 'user_based': True}}}\n"
     ]
    }
   ],
   "source": [
    "# Grid search for KNNBaseline Model\n",
    "param_grid_search(KNNBaseline)"
   ]
  },
  {
   "cell_type": "markdown",
   "id": "5d296581",
   "metadata": {},
   "source": [
    ">* Grid search for KNNBaseline is performed to fine-tune hyperparameters.\n",
    ">* The best hyperparameters include 30 neighbors with cosine similarity for user-based collaborative filtering.\n",
    ">* The tuned RMSE for KNNBaseline is 0.8779, further improving the model from the baseline build which had 0.8790"
   ]
  },
  {
   "cell_type": "markdown",
   "id": "37b2e817",
   "metadata": {},
   "source": [
    "### MODEL 3: KNNWithMeans Model\n",
    "\n",
    "#### Building and Tuning KNN WithMeans Model"
   ]
  },
  {
   "cell_type": "markdown",
   "id": "51d341bd",
   "metadata": {},
   "source": [
    "#### Building The KNN WithMeans Model"
   ]
  },
  {
   "cell_type": "code",
   "execution_count": 21,
   "id": "7ede3cd4",
   "metadata": {},
   "outputs": [
    {
     "name": "stdout",
     "output_type": "stream",
     "text": [
      "Computing the pearson similarity matrix...\n",
      "Done computing similarity matrix.\n",
      "RMSE: 0.8995\n",
      "KNNWithMeans RMSE: 0.8994971701396823\n"
     ]
    }
   ],
   "source": [
    "# Build a KNNWithMeans model\n",
    "model_creation(KNNWithMeans, trainset, testset)"
   ]
  },
  {
   "cell_type": "markdown",
   "id": "446a0b86",
   "metadata": {},
   "source": [
    "> * The RMSE for KNNWithMeans is 0.8995, indicating a slightly higher error compared to KNNBaseline. "
   ]
  },
  {
   "cell_type": "markdown",
   "id": "4d94d58e",
   "metadata": {},
   "source": [
    "#### Tuning The KNN WithMeans Model"
   ]
  },
  {
   "cell_type": "code",
   "execution_count": 22,
   "id": "d3902dd0",
   "metadata": {},
   "outputs": [
    {
     "name": "stdout",
     "output_type": "stream",
     "text": [
      "Best RMSE for KNNWithMeans: {'rmse': 0.8969055306683433}\n",
      "Best Hyperparameters for KNNWithMeans: {'rmse': {'k': 40, 'sim_options': {'name': 'pearson', 'user_based': True}}}\n"
     ]
    }
   ],
   "source": [
    "# Grid search for KNNWithMeans Model\n",
    "param_grid_search(KNNWithMeans)"
   ]
  },
  {
   "cell_type": "markdown",
   "id": "3901fadc",
   "metadata": {},
   "source": [
    ">* Grid search is performed to find optimal hyperparameters for the KNNWithMeans model.\n",
    ">* The best hyperparameters include 40 neighbors with Pearson similarity for user-based collaborative filtering.\n",
    ">* The tuned RMSE for KNNWithMeans is 0.8953, showing improvement over the initial model which had 0.8995."
   ]
  },
  {
   "cell_type": "markdown",
   "id": "b5cbf52d",
   "metadata": {},
   "source": [
    "### MODEL 4: SVD Model\n",
    "\n",
    "#### Building and Tuning SVD Model"
   ]
  },
  {
   "cell_type": "markdown",
   "id": "b9a6e512",
   "metadata": {},
   "source": [
    "#### Building The SVD Model"
   ]
  },
  {
   "cell_type": "code",
   "execution_count": 23,
   "id": "ac7ae6cd",
   "metadata": {},
   "outputs": [
    {
     "name": "stdout",
     "output_type": "stream",
     "text": [
      "RMSE: 0.8709\n",
      "SVD RMSE: 0.8709079093151322\n"
     ]
    }
   ],
   "source": [
    "# Build a SVD model\n",
    "model_creation(SVD, trainset, testset)"
   ]
  },
  {
   "cell_type": "markdown",
   "id": "960849b2",
   "metadata": {},
   "source": [
    "* The RMSE for SVD is 0.8702, demonstrating a competitive performance compared to the collaborative filtering models."
   ]
  },
  {
   "cell_type": "markdown",
   "id": "cf490a08",
   "metadata": {},
   "source": [
    "#### Tuning The SVD Model"
   ]
  },
  {
   "cell_type": "code",
   "execution_count": 24,
   "id": "c93cf4fa",
   "metadata": {},
   "outputs": [
    {
     "name": "stdout",
     "output_type": "stream",
     "text": [
      "Best RMSE for SVD: {'rmse': 0.868607070574652}\n",
      "Best Hyperparameters for SVD: {'rmse': {'n_factors': 100, 'reg_all': 0.05}}\n"
     ]
    }
   ],
   "source": [
    "# Grid search for KNNWithMeans Model\n",
    "param_grid_search(SVD)"
   ]
  },
  {
   "cell_type": "markdown",
   "id": "5dc00be3",
   "metadata": {},
   "source": [
    "* Grid search is performed to find optimal hyperparameters for the SVD model.\n",
    "* The best hyperparameters include 20 factors and a regularization term of 0.02.\n",
    "* The tuned RMSE for SVD is 0.8691, slightly improving the model."
   ]
  },
  {
   "cell_type": "markdown",
   "id": "f7d29c04",
   "metadata": {},
   "source": [
    "### FINAL MODEL SELECTION AND EVALUATION\n",
    "\n",
    "SVD model performed best as compared to the rest of the models with a RMSE of 0.8688. This means that, on average, the predicted ratings are about 0.8688 units away from the actual ratings. "
   ]
  },
  {
   "cell_type": "code",
   "execution_count": 25,
   "id": "7cbca8c7",
   "metadata": {},
   "outputs": [
    {
     "data": {
      "text/html": [
       "<table border=\"1\" class=\"dataframe\">\n",
       "  <thead>\n",
       "    <tr style=\"text-align: right;\">\n",
       "      <th>Model</th>\n",
       "      <th>RMSE</th>\n",
       "      <th>RMSE after Tuning</th>\n",
       "    </tr>\n",
       "  </thead>\n",
       "  <tbody>\n",
       "    <tr>\n",
       "      <td>KNNBasic</td>\n",
       "      <td>0.9721</td>\n",
       "      <td>0.9705</td>\n",
       "    </tr>\n",
       "    <tr>\n",
       "      <td>KNNBaseline</td>\n",
       "      <td>0.8790</td>\n",
       "      <td>0.8767</td>\n",
       "    </tr>\n",
       "    <tr>\n",
       "      <td>KNNWithMeans</td>\n",
       "      <td>0.8995</td>\n",
       "      <td>0.8964</td>\n",
       "    </tr>\n",
       "    <tr>\n",
       "      <td>SVD</td>\n",
       "      <td>0.8709</td>\n",
       "      <td>0.8688</td>\n",
       "    </tr>\n",
       "  </tbody>\n",
       "</table>"
      ],
      "text/plain": [
       "<IPython.core.display.HTML object>"
      ]
     },
     "execution_count": 25,
     "metadata": {},
     "output_type": "execute_result"
    }
   ],
   "source": [
    "# A table that displays a summary of the validation metrics\n",
    "def make_evaluation_table(metrics_dict):\n",
    "    metrics_df = pd.DataFrame(metrics_dict)\n",
    "    evaluation_table = metrics_df.to_html(index=False)\n",
    "    return evaluation_table\n",
    "\n",
    "metrics_dict = {\n",
    "    'Model': ['KNNBasic', 'KNNBaseline', 'KNNWithMeans', 'SVD'],\n",
    "    'RMSE': [0.9721, 0.8790, 0.8995, 0.8709],\n",
    "    'RMSE after Tuning': [0.9705, 0.8767, 0.8964, 0.8688],\n",
    "    }\n",
    "\n",
    "evaluation_table = make_evaluation_table(metrics_dict)\n",
    "HTML(evaluation_table)\n"
   ]
  },
  {
   "cell_type": "markdown",
   "id": "5f5f6c67",
   "metadata": {},
   "source": [
    ">* An evaluation table is created, summarizing the RMSE for each model before and after tuning.\n",
    ">* The SVD model stands out as the best-performing model with the lowest RMSE of 0.8688.\n",
    ">* It is therefore necessary to select the SVD Model due to its performance"
   ]
  },
  {
   "cell_type": "markdown",
   "id": "554381c9",
   "metadata": {},
   "source": [
    "### Final Model Selection and Fitting"
   ]
  },
  {
   "cell_type": "code",
   "execution_count": 26,
   "id": "17b18b7d",
   "metadata": {},
   "outputs": [
    {
     "data": {
      "text/plain": [
       "<surprise.prediction_algorithms.matrix_factorization.SVD at 0x23280d2be50>"
      ]
     },
     "execution_count": 26,
     "metadata": {},
     "output_type": "execute_result"
    }
   ],
   "source": [
    "# Final model selected\n",
    "final_model = SVD(n_factors= 50, reg_all=0.05, random_state=111)\n",
    "final_model.fit(trainset)"
   ]
  },
  {
   "cell_type": "markdown",
   "id": "08e0ba5c",
   "metadata": {},
   "source": [
    "### PREDICTIONS\n",
    "\n",
    "#### Movie Rater Function "
   ]
  },
  {
   "cell_type": "code",
   "execution_count": 27,
   "id": "d41d90d7",
   "metadata": {},
   "outputs": [],
   "source": [
    "# A function to ask the user to rate movies they have watched\n",
    "def movie_rater(movie_df,num, genre=None):\n",
    "    userID = 1000\n",
    "    rating_list = []\n",
    "    while num > 0:\n",
    "        if genre:\n",
    "            movie = movie_df[movie_df['genres'].str.contains(genre)].sample(1)\n",
    "        else:\n",
    "            movie = movie_df.sample(1)\n",
    "        print(movie)\n",
    "        rating = input('How do you rate this movie on a scale of 1-5, press n if you have not seen :\\n')\n",
    "        if rating == 'n':\n",
    "            continue\n",
    "        else:\n",
    "            rating_one_movie = {'userId':userID,'movieId':movie['movieId'].values[0],'rating':rating}\n",
    "            rating_list.append(rating_one_movie) \n",
    "            num -= 1\n",
    "    return rating_list\n",
    "\n",
    "# A function to rank the movies in the database based on the user's rating on presented movies\n",
    "def rank_movies(df, user_rating):\n",
    "        ## add the new ratings to the original ratings DataFrame\n",
    "    user_ratings = pd.DataFrame(user_rating)\n",
    "    new_ratings_df = pd.concat([df, user_ratings], axis=0)\n",
    "    reader = Reader()\n",
    "    new_data = Dataset.load_from_df(new_ratings_df, reader)\n",
    "\n",
    "    # train a model using the new combined DataFrame\n",
    "    svd_ = SVD(n_factors= 50, reg_all=0.05)\n",
    "    svd_.fit(new_data.build_full_trainset())\n",
    "\n",
    "    # make predictions for the user\n",
    "    list_of_movies = []\n",
    "    for m_id in movie_rating_df['movieId'].unique():\n",
    "        list_of_movies.append( (m_id,svd_.predict(1000,m_id)[3]))\n",
    "    # Order the predictions from highest to lowest rated\n",
    "    ranked_movies = sorted(list_of_movies, key=lambda x:x[1], reverse=True)\n",
    "    return ranked_movies\n",
    "\n",
    "\n",
    "# A function to recommend movies to the user\n",
    "def recommended_movies(user_ratings, movie_title_df, n):\n",
    "    recommended_movies_set = set()  # Keep track of recommended movies\n",
    "\n",
    "    for idx, rec in enumerate(user_ratings):\n",
    "        movie_id = int(rec[0])\n",
    "        title_array = movie_title_df.loc[movie_title_df['movieId'] == movie_id, 'title'].values\n",
    "\n",
    "        # Check if the array is not empty and the movie has not been recommended before\n",
    "        if title_array.any() and title_array[0] not in recommended_movies_set:\n",
    "            title = title_array[0]\n",
    "            print('Recommendation #', idx+1, ':', title, '\\n')\n",
    "            recommended_movies_set.add(title)  # Add the movie to the set of recommended movies\n",
    "            n -= 1\n",
    "\n",
    "        if n == 0:\n",
    "            break"
   ]
  },
  {
   "cell_type": "code",
   "execution_count": 28,
   "id": "3c0d60c0",
   "metadata": {},
   "outputs": [
    {
     "name": "stdout",
     "output_type": "stream",
     "text": [
      "       movieId                                       title   genres\n",
      "42097     2324  Life Is Beautiful (La Vita è bella) (1997)  Romance\n",
      "       movieId                                              title   genres\n",
      "78251    26776  Porco Rosso (Crimson Pig) (Kurenai no buta) (1...  Romance\n",
      "       movieId                    title   genres\n",
      "21481      955  Bringing Up Baby (1938)  Romance\n"
     ]
    }
   ],
   "source": [
    "# Run the movie_rater function and assign it to user_rating\n",
    "user_rating = movie_rater(exploded_genres_df[['movieId', 'title','genres']], 3, 'Romance')"
   ]
  },
  {
   "cell_type": "markdown",
   "id": "8396d7f7",
   "metadata": {},
   "source": [
    "> * The movie_rater function is used to interactively rate movies in the 'Romance' genre.\n",
    "> * Ratings are provided for four randomly selected movies."
   ]
  },
  {
   "cell_type": "markdown",
   "id": "c0edd125",
   "metadata": {},
   "source": [
    "### Ordering the Predictions"
   ]
  },
  {
   "cell_type": "code",
   "execution_count": 29,
   "id": "4ad84d8d",
   "metadata": {},
   "outputs": [],
   "source": [
    "# Run the rank_movies function\n",
    "ranked_m_ovies = rank_movies(user_item_df, user_rating)"
   ]
  },
  {
   "cell_type": "markdown",
   "id": "b5c47a00",
   "metadata": {},
   "source": [
    "### Generating Recommended Movies"
   ]
  },
  {
   "cell_type": "code",
   "execution_count": 30,
   "id": "345e59b3",
   "metadata": {},
   "outputs": [
    {
     "name": "stdout",
     "output_type": "stream",
     "text": [
      "Recommendation # 1 : Lawrence of Arabia (1962) \n",
      "\n",
      "Recommendation # 2 : Philadelphia Story, The (1940) \n",
      "\n",
      "Recommendation # 3 : Dr. Strangelove or: How I Learned to Stop Worrying and Love the Bomb (1964) \n",
      "\n",
      "Recommendation # 4 : Streetcar Named Desire, A (1951) \n",
      "\n",
      "Recommendation # 5 : Outlaw Josey Wales, The (1976) \n",
      "\n"
     ]
    }
   ],
   "source": [
    "# run the recommender function\n",
    "recommended_movies(ranked_m_ovies, movie_rating_df, 5)"
   ]
  },
  {
   "cell_type": "markdown",
   "id": "fe854ec1",
   "metadata": {},
   "source": [
    "> * The recommended_movies function is used to display top movie recommendations based on the user's preferences and new ratings."
   ]
  },
  {
   "cell_type": "markdown",
   "id": "534dea40",
   "metadata": {},
   "source": []
  }
 ],
 "metadata": {
  "kernelspec": {
   "display_name": "Python 3",
   "language": "python",
   "name": "python3"
  },
  "language_info": {
   "codemirror_mode": {
    "name": "ipython",
    "version": 3
   },
   "file_extension": ".py",
   "mimetype": "text/x-python",
   "name": "python",
   "nbconvert_exporter": "python",
   "pygments_lexer": "ipython3",
   "version": "3.8.5"
  }
 },
 "nbformat": 4,
 "nbformat_minor": 5
}
